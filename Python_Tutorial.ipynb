{
 "cells": [
  {
   "cell_type": "markdown",
   "metadata": {
    "colab_type": "text",
    "id": "RJslnp-Qpr5d"
   },
   "source": [
    "# Python Syntax\n",
    "\n",
    "\n",
    "1.   **Variables** --type\n",
    "2.   **Datatypes** (boolean, integer, float, string)\n",
    "3.   **Whitespace**\n",
    "4.   **Comments** - Single line\n",
    "5.   **Basic Operators**\n",
    "\n",
    "> * Arithmetic (+, -, \\*, /, **, //, %)\n",
    "> * Comparison (==, !=, >, <, <>, >=, <=)\n",
    "> * Assignment (+=, -=, *=, /= , **=, //= , %=)\n",
    "> * Bitwise (&, |, ^, ~, <<, >>)\n",
    "\n",
    "\n",
    "\n",
    "\n",
    "\n",
    "\n",
    "\n",
    "\n",
    "\n",
    "\n",
    "\n"
   ]
  },
  {
   "cell_type": "code",
   "execution_count": null,
   "metadata": {
    "colab": {
     "autoexec": {
      "startup": false,
      "wait_interval": 0
     },
     "base_uri": "https://localhost:8080/",
     "height": 52,
     "output_extras": [
      {
       "item_id": 1
      }
     ]
    },
    "colab_type": "code",
    "executionInfo": {
     "elapsed": 9521,
     "status": "ok",
     "timestamp": 1517596571368,
     "user": {
      "displayName": "ABHIUE ANAND",
      "photoUrl": "https://lh3.googleusercontent.com/a/default-user=s128",
      "userId": "100667458171938955043"
     },
     "user_tz": -330
    },
    "id": "iDFtwyDNv2_c",
    "outputId": "fd4b374f-871a-4213-e572-c56bb1548fce"
   },
   "outputs": [],
   "source": [
    "a = 25 # a is a variable here which is allocated with value 25 which is integer\n",
    "print a\n",
    "print type(a) # prints type of the variable a\n"
   ]
  },
  {
   "cell_type": "code",
   "execution_count": null,
   "metadata": {
    "colab": {
     "autoexec": {
      "startup": false,
      "wait_interval": 0
     },
     "base_uri": "https://localhost:8080/",
     "height": 34,
     "output_extras": [
      {
       "item_id": 1
      }
     ]
    },
    "colab_type": "code",
    "executionInfo": {
     "elapsed": 4966,
     "status": "ok",
     "timestamp": 1517596577266,
     "user": {
      "displayName": "ABHIUE ANAND",
      "photoUrl": "https://lh3.googleusercontent.com/a/default-user=s128",
      "userId": "100667458171938955043"
     },
     "user_tz": -330
    },
    "id": "X61r7-quwgOB",
    "outputId": "5c524ca5-8bb5-4580-a4bb-86b57a64446f"
   },
   "outputs": [],
   "source": [
    "a = 'programming' # re-assignment of variable with different data type\n",
    "b = 25.0\n",
    "print type(a), type(b)"
   ]
  },
  {
   "cell_type": "code",
   "execution_count": null,
   "metadata": {
    "colab": {
     "autoexec": {
      "startup": false,
      "wait_interval": 0
     },
     "base_uri": "https://localhost:8080/",
     "height": 52,
     "output_extras": [
      {
       "item_id": 1
      }
     ]
    },
    "colab_type": "code",
    "executionInfo": {
     "elapsed": 5761,
     "status": "ok",
     "timestamp": 1517596609526,
     "user": {
      "displayName": "ABHIUE ANAND",
      "photoUrl": "https://lh3.googleusercontent.com/a/default-user=s128",
      "userId": "100667458171938955043"
     },
     "user_tz": -330
    },
    "id": "ERDLiNCPwy_U",
    "outputId": "9b63546b-93e5-44bd-9272-4819daef5d87"
   },
   "outputs": [],
   "source": [
    "x = 2\n",
    "y = x + 1   # '+' arithmetic function used\n",
    "y = y << 1  # '<<' assignment function used\n",
    "x += 2      # '+=' assignment function used\n",
    "print x > y # '>' comparator function used\n",
    "print x, y"
   ]
  },
  {
   "cell_type": "markdown",
   "metadata": {
    "colab_type": "text",
    "id": "Kxj3GxzrzrIA"
   },
   "source": [
    "# Strings\n",
    "\n",
    "\n",
    "1.   Escaping character ('blabla\\'s')\n",
    "2.   Access by index\n",
    "3.   String methods (len, str(explicit conversion), lower, upper)\n",
    "4.   String concatenation\n",
    "5.   String formatting with %\n",
    "\n"
   ]
  },
  {
   "cell_type": "code",
   "execution_count": null,
   "metadata": {
    "colab": {
     "autoexec": {
      "startup": false,
      "wait_interval": 0
     },
     "base_uri": "https://localhost:8080/",
     "height": 69,
     "output_extras": [
      {
       "item_id": 1
      }
     ]
    },
    "colab_type": "code",
    "executionInfo": {
     "elapsed": 1691,
     "status": "ok",
     "timestamp": 1517598682764,
     "user": {
      "displayName": "ABHIUE ANAND",
      "photoUrl": "https://lh3.googleusercontent.com/a/default-user=s128",
      "userId": "100667458171938955043"
     },
     "user_tz": -330
    },
    "id": "2dWybqHo6e8V",
    "outputId": "82e93e5f-29a8-4f6d-c01d-d6509e0fb584"
   },
   "outputs": [],
   "source": [
    "print \"This is a string.\"\n",
    "print 'This is also a string'\n",
    "print 'HTML isn\\'t a language'     # print 'HTML isn't a language' --> used escaping character to remove the confusion"
   ]
  },
  {
   "cell_type": "code",
   "execution_count": null,
   "metadata": {
    "colab": {
     "autoexec": {
      "startup": false,
      "wait_interval": 0
     },
     "base_uri": "https://localhost:8080/",
     "height": 52,
     "output_extras": [
      {
       "item_id": 2
      }
     ]
    },
    "colab_type": "code",
    "executionInfo": {
     "elapsed": 9589,
     "status": "ok",
     "timestamp": 1517599648793,
     "user": {
      "displayName": "ABHIUE ANAND",
      "photoUrl": "https://lh3.googleusercontent.com/a/default-user=s128",
      "userId": "100667458171938955043"
     },
     "user_tz": -330
    },
    "id": "TY1NtqpMxiQM",
    "outputId": "4ab1e4d8-5710-4fb1-8476-f2ccc01712ed"
   },
   "outputs": [],
   "source": [
    "a = \"nitjsr\"\n",
    "b = raw_input('Enter your college: ')  # takes input from user as string with the message\n",
    "print a == b"
   ]
  },
  {
   "cell_type": "code",
   "execution_count": null,
   "metadata": {
    "colab": {
     "autoexec": {
      "startup": false,
      "wait_interval": 0
     },
     "base_uri": "https://localhost:8080/",
     "height": 52,
     "output_extras": [
      {
       "item_id": 1
      }
     ]
    },
    "colab_type": "code",
    "executionInfo": {
     "elapsed": 1593,
     "status": "ok",
     "timestamp": 1517603812984,
     "user": {
      "displayName": "ABHIUE ANAND",
      "photoUrl": "https://lh3.googleusercontent.com/a/default-user=s128",
      "userId": "100667458171938955043"
     },
     "user_tz": -330
    },
    "id": "yT-kvqDDw4nS",
    "outputId": "bf319a40-2978-4336-f444-fa5e5b62ef03"
   },
   "outputs": [],
   "source": [
    "x, y = 'play', 'ground'\n",
    "print x[2]      # access by index\n",
    "\n",
    "print x + y     # concatenate and print "
   ]
  },
  {
   "cell_type": "code",
   "execution_count": null,
   "metadata": {
    "colab": {
     "autoexec": {
      "startup": false,
      "wait_interval": 0
     },
     "base_uri": "https://localhost:8080/",
     "height": 86,
     "output_extras": [
      {
       "item_id": 3
      }
     ]
    },
    "colab_type": "code",
    "executionInfo": {
     "elapsed": 11376,
     "status": "ok",
     "timestamp": 1517599788244,
     "user": {
      "displayName": "ABHIUE ANAND",
      "photoUrl": "https://lh3.googleusercontent.com/a/default-user=s128",
      "userId": "100667458171938955043"
     },
     "user_tz": -330
    },
    "id": "XaGapwOd8-Gw",
    "outputId": "22204a13-b6d7-4b69-e30c-dd30307c217c"
   },
   "outputs": [],
   "source": [
    "c = 'JuPiTeR'\n",
    "d = c.lower()   # converts into lowercase\n",
    "e = c.upper()   # converts into uppercase\n",
    "l = len(c)      # calculates length\n",
    "\n",
    "print 'The length of %s is %d' % (c, l)        # print string using string formatting\n",
    "print 'The upper case conversion and lower case conversion is {} and {} respectively'.format(e, d) # another format to print\n",
    "\n",
    "k = float(raw_input('Enter a number: '))       # intialization as float using raw_input\n",
    "k = str(k)      # explict conversion\n",
    "print 'The data type of %s is %s' % (k,type(k))"
   ]
  },
  {
   "cell_type": "markdown",
   "metadata": {
    "colab_type": "text",
    "id": "lhfhie42_zTb"
   },
   "source": [
    "# Conditionals and control flow\n",
    "\n",
    "*   Boolean operators(and, or, not)\n",
    "*   Whitespace (intendation)\n",
    "\n",
    "\n",
    "1. if\n",
    "2. elif -> python's own version of 'else if'\n",
    "3. else"
   ]
  },
  {
   "cell_type": "code",
   "execution_count": null,
   "metadata": {
    "colab": {
     "autoexec": {
      "startup": false,
      "wait_interval": 0
     },
     "base_uri": "https://localhost:8080/",
     "height": 52,
     "output_extras": [
      {
       "item_id": 2
      }
     ]
    },
    "colab_type": "code",
    "executionInfo": {
     "elapsed": 6996,
     "status": "ok",
     "timestamp": 1517600300447,
     "user": {
      "displayName": "ABHIUE ANAND",
      "photoUrl": "https://lh3.googleusercontent.com/a/default-user=s128",
      "userId": "100667458171938955043"
     },
     "user_tz": -330
    },
    "id": "BSgyYNtqAyoy",
    "outputId": "7161ffb8-ec8c-47dd-d1c9-867b63f21172"
   },
   "outputs": [],
   "source": [
    "a = 25\n",
    "b = int(raw_input(\"Enter a number to compare: \"))\n",
    "\n",
    "# 'and', 'or', 'not' are the boolean operator in Python\n",
    "\n",
    "if (a > b) and True:                      # if statement\n",
    "  print 'a is greater than b'\n",
    "elif b > a:                               # elif statement\n",
    "  print 'b is greater than a'\n",
    "else:                                     # else statement\n",
    "  print 'a and b both are equal'"
   ]
  },
  {
   "cell_type": "markdown",
   "metadata": {
    "colab_type": "text",
    "id": "WFi5NLamDHWc"
   },
   "source": [
    "# Functions\n",
    "1. Denotation\n",
    "2. Arguments and return"
   ]
  },
  {
   "cell_type": "code",
   "execution_count": null,
   "metadata": {
    "colab": {
     "autoexec": {
      "startup": false,
      "wait_interval": 0
     },
     "base_uri": "https://localhost:8080/",
     "height": 69,
     "output_extras": [
      {
       "item_id": 3
      }
     ]
    },
    "colab_type": "code",
    "executionInfo": {
     "elapsed": 7710,
     "status": "ok",
     "timestamp": 1517601012709,
     "user": {
      "displayName": "ABHIUE ANAND",
      "photoUrl": "https://lh3.googleusercontent.com/a/default-user=s128",
      "userId": "100667458171938955043"
     },
     "user_tz": -330
    },
    "id": "r8Ak_UgI-I2t",
    "outputId": "93e957fc-efca-4cda-be82-ee5b643776d8"
   },
   "outputs": [],
   "source": [
    "def power(base, exponent, bla1, bla2):           # define function and take input arguments\n",
    "  raised_num = base ** exponent\n",
    "  return raised_num                              # return statement\n",
    "\n",
    "a = int(raw_input(\"Enter first number: \"))\n",
    "b = int(raw_input(\"Enter second number: \"))\n",
    "\n",
    "print power(a,b,888,9997415)"
   ]
  },
  {
   "cell_type": "code",
   "execution_count": null,
   "metadata": {
    "colab": {
     "autoexec": {
      "startup": false,
      "wait_interval": 0
     },
     "base_uri": "https://localhost:8080/",
     "height": 69,
     "output_extras": [
      {
       "item_id": 3
      }
     ]
    },
    "colab_type": "code",
    "executionInfo": {
     "elapsed": 8415,
     "status": "ok",
     "timestamp": 1517601181389,
     "user": {
      "displayName": "ABHIUE ANAND",
      "photoUrl": "https://lh3.googleusercontent.com/a/default-user=s128",
      "userId": "100667458171938955043"
     },
     "user_tz": -330
    },
    "id": "DQsfsW7zEZsO",
    "outputId": "414711fb-3871-42ee-e8eb-456ffebd19a2"
   },
   "outputs": [],
   "source": [
    "def check(a, b):\n",
    "  if a > b:\n",
    "    return True\n",
    "  \n",
    "  elif b > a:\n",
    "    return False\n",
    "\n",
    "#This function returns None if both numbers are equal\n",
    "\n",
    "a = int(raw_input(\"Enter first number: \"))\n",
    "b = int(raw_input(\"Enter second number: \"))\n",
    "\n",
    "print check(a, b)"
   ]
  },
  {
   "cell_type": "markdown",
   "metadata": {
    "colab_type": "text",
    "id": "utaOd1jnFJN5"
   },
   "source": [
    "# List and Dictionary\n",
    "* List\n",
    "> 1. Access by index\n",
    "> 2. len(), append(), index(), insert(), remove(), pop(index)\n",
    "> 3. Slicing\n",
    "* Dictionary\n",
    "> 1. key\n",
    "> 2. del dict_name[key] -> used to delete pair of key and element from dictionary"
   ]
  },
  {
   "cell_type": "code",
   "execution_count": null,
   "metadata": {
    "colab": {
     "autoexec": {
      "startup": false,
      "wait_interval": 0
     },
     "base_uri": "https://localhost:8080/",
     "height": 104,
     "output_extras": [
      {
       "item_id": 1
      }
     ]
    },
    "colab_type": "code",
    "executionInfo": {
     "elapsed": 966,
     "status": "ok",
     "timestamp": 1517602005046,
     "user": {
      "displayName": "ABHIUE ANAND",
      "photoUrl": "https://lh3.googleusercontent.com/a/default-user=s128",
      "userId": "100667458171938955043"
     },
     "user_tz": -330
    },
    "id": "HyAxgQgtFCq3",
    "outputId": "8ceb7ab7-debc-4bc7-87d5-b622c08c9e77"
   },
   "outputs": [],
   "source": [
    "a = [25, 'string', 32.45]      # list\n",
    "print a[1]\n",
    "print len(a)                   # prints length of the list\n",
    "a.append('Ghost')              \n",
    "a.append(65)                   # appends\n",
    "a.pop(2)                       # pops element with index given as argument\n",
    "a.append(45.32)\n",
    "a.insert(2, 0.001)             # insert at index 2\n",
    "print a\n",
    "\n",
    "print 'Index of 65 is {}'.format(a.index(65))       #prints index of the given element\n",
    "\n",
    "a.remove(25)                   # removes particular element\n",
    "print a\n"
   ]
  },
  {
   "cell_type": "code",
   "execution_count": null,
   "metadata": {
    "colab": {
     "autoexec": {
      "startup": false,
      "wait_interval": 0
     },
     "base_uri": "https://localhost:8080/",
     "height": 34,
     "output_extras": [
      {
       "item_id": 1
      }
     ]
    },
    "colab_type": "code",
    "executionInfo": {
     "elapsed": 1852,
     "status": "ok",
     "timestamp": 1517602130247,
     "user": {
      "displayName": "ABHIUE ANAND",
      "photoUrl": "https://lh3.googleusercontent.com/a/default-user=s128",
      "userId": "100667458171938955043"
     },
     "user_tz": -330
    },
    "id": "Mc3knsviINlX",
    "outputId": "5a0e1dc3-15eb-4c12-b32f-eeb73800afc1"
   },
   "outputs": [],
   "source": [
    "b = 'thisisnotforyou'\n",
    "print b[:4], b[4:6], b[6:9], b[9:12], b[12:]      #slicing"
   ]
  },
  {
   "cell_type": "code",
   "execution_count": null,
   "metadata": {
    "colab": {
     "autoexec": {
      "startup": false,
      "wait_interval": 0
     },
     "base_uri": "https://localhost:8080/",
     "height": 52,
     "output_extras": [
      {
       "item_id": 1
      }
     ]
    },
    "colab_type": "code",
    "executionInfo": {
     "elapsed": 1508,
     "status": "ok",
     "timestamp": 1517602841146,
     "user": {
      "displayName": "ABHIUE ANAND",
      "photoUrl": "https://lh3.googleusercontent.com/a/default-user=s128",
      "userId": "100667458171938955043"
     },
     "user_tz": -330
    },
    "id": "O_Mi3GsJIr5R",
    "outputId": "4261063e-2b61-4b3c-dc95-b1a8dbca02fb"
   },
   "outputs": [],
   "source": [
    "c = 'This is crap'\n",
    "cc = c.split(' ')       # splits the string where ' '(space) is found\n",
    "print cc                # after splitting it returns into list of strings\n",
    "\n",
    "d = ['bat', 'sat', 'cat', 'rat']\n",
    "d.sort()                # sorts the list\n",
    "\n",
    "print d"
   ]
  },
  {
   "cell_type": "code",
   "execution_count": null,
   "metadata": {
    "colab": {
     "autoexec": {
      "startup": false,
      "wait_interval": 0
     },
     "base_uri": "https://localhost:8080/",
     "height": 69,
     "output_extras": [
      {
       "item_id": 1
      }
     ]
    },
    "colab_type": "code",
    "executionInfo": {
     "elapsed": 1362,
     "status": "ok",
     "timestamp": 1517603005624,
     "user": {
      "displayName": "ABHIUE ANAND",
      "photoUrl": "https://lh3.googleusercontent.com/a/default-user=s128",
      "userId": "100667458171938955043"
     },
     "user_tz": -330
    },
    "id": "n6tj81joJIf0",
    "outputId": "2e1469c5-024f-48f6-a5e9-7785e6536b9b"
   },
   "outputs": [],
   "source": [
    "my_dict = {25: 'havana', 'do': 56.89, 12.0001: 67, 54: ['finds', 'a', 63, 10.01, 'bottle']}     #dictionary\n",
    "\n",
    "print my_dict[12.0001]        # prints element at key 12.0001\n",
    "print my_dict[54][4]          # prints 5th element of the list which is linked with key 54\n",
    "\n",
    "del my_dict['do']             # deletes the pair with key 'do'\n",
    "print my_dict\n"
   ]
  },
  {
   "cell_type": "code",
   "execution_count": null,
   "metadata": {
    "colab": {
     "autoexec": {
      "startup": false,
      "wait_interval": 0
     },
     "base_uri": "https://localhost:8080/",
     "height": 52,
     "output_extras": [
      {
       "item_id": 1
      }
     ]
    },
    "colab_type": "code",
    "executionInfo": {
     "elapsed": 1587,
     "status": "ok",
     "timestamp": 1517603209893,
     "user": {
      "displayName": "ABHIUE ANAND",
      "photoUrl": "https://lh3.googleusercontent.com/a/default-user=s128",
      "userId": "100667458171938955043"
     },
     "user_tz": -330
    },
    "id": "1R8uRe99MeEW",
    "outputId": "9ee21363-2b1a-483e-b328-5facc1364d64"
   },
   "outputs": [],
   "source": [
    "#Exercise\n",
    "\n",
    "a = ['gun', 'sun', 'run']\n",
    "print a*3\n",
    "\n",
    "b = ['rat', 'trap']\n",
    "print a+b"
   ]
  },
  {
   "cell_type": "code",
   "execution_count": null,
   "metadata": {
    "colab": {
     "autoexec": {
      "startup": false,
      "wait_interval": 0
     },
     "base_uri": "https://localhost:8080/",
     "height": 34,
     "output_extras": [
      {
       "item_id": 1
      }
     ]
    },
    "colab_type": "code",
    "executionInfo": {
     "elapsed": 1605,
     "status": "ok",
     "timestamp": 1517603640755,
     "user": {
      "displayName": "ABHIUE ANAND",
      "photoUrl": "https://lh3.googleusercontent.com/a/default-user=s128",
      "userId": "100667458171938955043"
     },
     "user_tz": -330
    },
    "id": "YZSLBTuxNheu",
    "outputId": "de5784be-10e0-4853-ebe0-16ab88296247"
   },
   "outputs": [],
   "source": [
    "def print_list(a):            # list can be passed as argument in a function\n",
    "  print a\n",
    "\n",
    "a = ['key', 'lock', 'cup']\n",
    "\n",
    "print_list(a)"
   ]
  },
  {
   "cell_type": "markdown",
   "metadata": {
    "colab_type": "text",
    "id": "U7c047-EMM40"
   },
   "source": [
    "# Loops\n",
    "* while\n",
    "> 1. condition\n",
    "> 2. infinite loops\n",
    "> 3. break\n",
    "> 4. while/else\n",
    "* for\n",
    "> 1. for over string\n",
    "> 2. for over list\n",
    "> 3. for over dictionary\n",
    "> 4. for over multiple lists simultaneously\n",
    "> 5. enumerate\n",
    "> 6. sorted\n",
    "> 7. zip\n",
    "> 8. for/else\n",
    "> 9. range"
   ]
  },
  {
   "cell_type": "code",
   "execution_count": null,
   "metadata": {
    "colab": {
     "autoexec": {
      "startup": false,
      "wait_interval": 0
     },
     "base_uri": "https://localhost:8080/",
     "height": 34,
     "output_extras": [
      {
       "item_id": 1
      }
     ]
    },
    "colab_type": "code",
    "executionInfo": {
     "elapsed": 1391,
     "status": "ok",
     "timestamp": 1517606804402,
     "user": {
      "displayName": "ABHIUE ANAND",
      "photoUrl": "https://lh3.googleusercontent.com/a/default-user=s128",
      "userId": "100667458171938955043"
     },
     "user_tz": -330
    },
    "id": "Sl0K-3FJL59q",
    "outputId": "ac32a94f-853c-43bb-e086-7bac1010d81c"
   },
   "outputs": [],
   "source": [
    "i = 0\n",
    "while i < 5:    # 'while' keyword with condition\n",
    "  print i,      # ',' after print doesn't change the current printing line\n",
    "  i += 1        # update i, i++ doesn't apply in python\n"
   ]
  },
  {
   "cell_type": "code",
   "execution_count": null,
   "metadata": {
    "colab": {
     "autoexec": {
      "startup": false,
      "wait_interval": 0
     }
    },
    "colab_type": "code",
    "collapsed": true,
    "id": "EXda38ZsaXkC"
   },
   "outputs": [],
   "source": [
    "#infinte loop\n",
    "while False: #change it to True to see the magic :P\n",
    "  print 'Dragon',"
   ]
  },
  {
   "cell_type": "code",
   "execution_count": null,
   "metadata": {
    "colab": {
     "autoexec": {
      "startup": false,
      "wait_interval": 0
     },
     "base_uri": "https://localhost:8080/",
     "height": 34,
     "output_extras": [
      {
       "item_id": 1
      }
     ]
    },
    "colab_type": "code",
    "executionInfo": {
     "elapsed": 1662,
     "status": "ok",
     "timestamp": 1517607415383,
     "user": {
      "displayName": "ABHIUE ANAND",
      "photoUrl": "https://lh3.googleusercontent.com/a/default-user=s128",
      "userId": "100667458171938955043"
     },
     "user_tz": -330
    },
    "id": "AFspq7BXceqC",
    "outputId": "809ef059-c175-4a31-a651-c3e0e451b423"
   },
   "outputs": [],
   "source": [
    "s = 'Hindrance'\n",
    "i = 0\n",
    "while True:\n",
    "  if i > len(s) - 1:\n",
    "    break               # break if the above condition holds true\n",
    "  print s[i],\n",
    "  i += 2"
   ]
  },
  {
   "cell_type": "code",
   "execution_count": null,
   "metadata": {
    "colab": {
     "autoexec": {
      "startup": false,
      "wait_interval": 0
     },
     "base_uri": "https://localhost:8080/",
     "height": 86,
     "output_extras": [
      {
       "item_id": 1
      }
     ]
    },
    "colab_type": "code",
    "executionInfo": {
     "elapsed": 1504,
     "status": "ok",
     "timestamp": 1517607834926,
     "user": {
      "displayName": "ABHIUE ANAND",
      "photoUrl": "https://lh3.googleusercontent.com/a/default-user=s128",
      "userId": "100667458171938955043"
     },
     "user_tz": -330
    },
    "id": "ewop2XwXc6kb",
    "outputId": "e42c0f75-622c-4c26-85f1-7b35e466a9c4"
   },
   "outputs": [],
   "source": [
    "a = ['string', 'integer', '98745', 456, 987.0]\n",
    "i = 0\n",
    "l = len(a)\n",
    "\n",
    "while i < l:\n",
    "  if i > 3:         #change 3 to 4 to see the change in print statement\n",
    "    break\n",
    "  print a[i]\n",
    "  i += 1\n",
    "else:\n",
    "  print 'Printed every element of the list'\n",
    "    "
   ]
  },
  {
   "cell_type": "code",
   "execution_count": null,
   "metadata": {
    "colab": {
     "autoexec": {
      "startup": false,
      "wait_interval": 0
     },
     "base_uri": "https://localhost:8080/",
     "height": 34,
     "output_extras": [
      {
       "item_id": 1
      }
     ]
    },
    "colab_type": "code",
    "executionInfo": {
     "elapsed": 1356,
     "status": "ok",
     "timestamp": 1517607070878,
     "user": {
      "displayName": "ABHIUE ANAND",
      "photoUrl": "https://lh3.googleusercontent.com/a/default-user=s128",
      "userId": "100667458171938955043"
     },
     "user_tz": -330
    },
    "id": "wrJiOhpTa53d",
    "outputId": "b180e8b4-7298-47d5-e7f2-10d20af55a93"
   },
   "outputs": [],
   "source": [
    "# for loop on string\n",
    "s = 'dontTouch'\n",
    "for c in s:\n",
    "  print c,"
   ]
  },
  {
   "cell_type": "code",
   "execution_count": null,
   "metadata": {
    "colab": {
     "autoexec": {
      "startup": false,
      "wait_interval": 0
     },
     "base_uri": "https://localhost:8080/",
     "height": 104,
     "output_extras": [
      {
       "item_id": 1
      }
     ]
    },
    "colab_type": "code",
    "executionInfo": {
     "elapsed": 1425,
     "status": "ok",
     "timestamp": 1517607166829,
     "user": {
      "displayName": "ABHIUE ANAND",
      "photoUrl": "https://lh3.googleusercontent.com/a/default-user=s128",
      "userId": "100667458171938955043"
     },
     "user_tz": -330
    },
    "id": "oxlZjNKibiM3",
    "outputId": "fb6694be-e4f1-4b45-ce83-0cba8c8bfad0"
   },
   "outputs": [],
   "source": [
    "# for loop on list\n",
    "a = ['ginger', 'fish', 21, 53.1,'4565']\n",
    "for element in a:\n",
    "  print element"
   ]
  },
  {
   "cell_type": "code",
   "execution_count": null,
   "metadata": {
    "colab": {
     "autoexec": {
      "startup": false,
      "wait_interval": 0
     },
     "base_uri": "https://localhost:8080/",
     "height": 104,
     "output_extras": [
      {
       "item_id": 1
      }
     ]
    },
    "colab_type": "code",
    "executionInfo": {
     "elapsed": 1177,
     "status": "ok",
     "timestamp": 1517607213582,
     "user": {
      "displayName": "ABHIUE ANAND",
      "photoUrl": "https://lh3.googleusercontent.com/a/default-user=s128",
      "userId": "100667458171938955043"
     },
     "user_tz": -330
    },
    "id": "s6_KrM22b5mY",
    "outputId": "2ee420a4-5dc3-4428-fa9e-b9cd239d6ed8"
   },
   "outputs": [],
   "source": [
    "#used enumerate\n",
    "for i, element in  enumerate(a):\n",
    "  print a[i]"
   ]
  },
  {
   "cell_type": "code",
   "execution_count": null,
   "metadata": {
    "colab": {
     "autoexec": {
      "startup": false,
      "wait_interval": 0
     },
     "base_uri": "https://localhost:8080/",
     "height": 34,
     "output_extras": [
      {
       "item_id": 1
      }
     ]
    },
    "colab_type": "code",
    "executionInfo": {
     "elapsed": 1647,
     "status": "ok",
     "timestamp": 1517607292779,
     "user": {
      "displayName": "ABHIUE ANAND",
      "photoUrl": "https://lh3.googleusercontent.com/a/default-user=s128",
      "userId": "100667458171938955043"
     },
     "user_tz": -330
    },
    "id": "1OyhP9pYcFFV",
    "outputId": "638045b9-2ce5-4fcb-9338-5d1cfe71872f"
   },
   "outputs": [],
   "source": [
    "# used sorted form of list\n",
    "b = ['cat', 'sat', 'fat', 'cut', 'drink']\n",
    "for ele in sorted(b):\n",
    "  print ele,"
   ]
  },
  {
   "cell_type": "code",
   "execution_count": null,
   "metadata": {
    "colab": {
     "autoexec": {
      "startup": false,
      "wait_interval": 0
     },
     "base_uri": "https://localhost:8080/",
     "height": 86,
     "output_extras": [
      {
       "item_id": 1
      }
     ]
    },
    "colab_type": "code",
    "executionInfo": {
     "elapsed": 1337,
     "status": "ok",
     "timestamp": 1517607973790,
     "user": {
      "displayName": "ABHIUE ANAND",
      "photoUrl": "https://lh3.googleusercontent.com/a/default-user=s128",
      "userId": "100667458171938955043"
     },
     "user_tz": -330
    },
    "id": "Ott2zrzCcYRS",
    "outputId": "5a9d02c1-ca14-43bf-9b3b-ada6affd92a4"
   },
   "outputs": [],
   "source": [
    "#used zip to simulateneously print corresponding elements of each list\n",
    "a = ['a', 'b', 'c', 'd']\n",
    "b = ['w', 'x', 'y', 'z']\n",
    "\n",
    "for (x,y) in zip(a, b):\n",
    "  print x, y"
   ]
  },
  {
   "cell_type": "code",
   "execution_count": null,
   "metadata": {
    "colab": {
     "autoexec": {
      "startup": false,
      "wait_interval": 0
     },
     "base_uri": "https://localhost:8080/",
     "height": 69,
     "output_extras": [
      {
       "item_id": 1
      }
     ]
    },
    "colab_type": "code",
    "executionInfo": {
     "elapsed": 1275,
     "status": "ok",
     "timestamp": 1517608201117,
     "user": {
      "displayName": "ABHIUE ANAND",
      "photoUrl": "https://lh3.googleusercontent.com/a/default-user=s128",
      "userId": "100667458171938955043"
     },
     "user_tz": -330
    },
    "id": "3j2Ht12Je-pL",
    "outputId": "a38fd570-83ac-496e-b7d6-404e279f0d1a"
   },
   "outputs": [],
   "source": [
    "print range(5) # creates a list in range [0,5)\n",
    "print range(5, 10) # creates a list in range [5,10)\n",
    "print range(0, 10, 2) # creates a list in range [0,10) with step size 2"
   ]
  },
  {
   "cell_type": "code",
   "execution_count": null,
   "metadata": {
    "colab": {
     "autoexec": {
      "startup": false,
      "wait_interval": 0
     },
     "base_uri": "https://localhost:8080/",
     "height": 104,
     "output_extras": [
      {
       "item_id": 1
      }
     ]
    },
    "colab_type": "code",
    "executionInfo": {
     "elapsed": 1670,
     "status": "ok",
     "timestamp": 1517608308374,
     "user": {
      "displayName": "ABHIUE ANAND",
      "photoUrl": "https://lh3.googleusercontent.com/a/default-user=s128",
      "userId": "100667458171938955043"
     },
     "user_tz": -330
    },
    "id": "bqHoPbJ6fX36",
    "outputId": "f0f0dfb5-d0ba-4114-b8aa-40d640613b7a"
   },
   "outputs": [],
   "source": [
    "#used range to iterate through loop\n",
    "a = ['tiger', 'dog', 'cat', 65.20, 9500]\n",
    "for i in range(len(a)):\n",
    "  print a[i]"
   ]
  },
  {
   "cell_type": "code",
   "execution_count": null,
   "metadata": {
    "colab": {
     "autoexec": {
      "startup": false,
      "wait_interval": 0
     },
     "base_uri": "https://localhost:8080/",
     "height": 86,
     "output_extras": [
      {
       "item_id": 1
      }
     ]
    },
    "colab_type": "code",
    "executionInfo": {
     "elapsed": 1158,
     "status": "ok",
     "timestamp": 1517608690576,
     "user": {
      "displayName": "ABHIUE ANAND",
      "photoUrl": "https://lh3.googleusercontent.com/a/default-user=s128",
      "userId": "100667458171938955043"
     },
     "user_tz": -330
    },
    "id": "1yAyeUJigQRL",
    "outputId": "35ca1a9a-434b-450a-d7b3-aaa38a4022ff"
   },
   "outputs": [],
   "source": [
    "# loop over dictionary\n",
    "dict_ = {'a': 10, 'b': 25, 'c': 32, 'd': 66, 'e': 41, 'f': 56, 'g': 21}\n",
    "\n",
    "def print_even(dictionary):\n",
    "  for key in dictionary:\n",
    "    if dictionary[key]%2 == 0:\n",
    "      print dictionary[key]\n",
    "\n",
    "print_even(dict_)"
   ]
  },
  {
   "cell_type": "code",
   "execution_count": null,
   "metadata": {
    "colab": {
     "autoexec": {
      "startup": false,
      "wait_interval": 0
     },
     "base_uri": "https://localhost:8080/",
     "height": 34,
     "output_extras": [
      {
       "item_id": 1
      }
     ]
    },
    "colab_type": "code",
    "executionInfo": {
     "elapsed": 1694,
     "status": "ok",
     "timestamp": 1517608857942,
     "user": {
      "displayName": "ABHIUE ANAND",
      "photoUrl": "https://lh3.googleusercontent.com/a/default-user=s128",
      "userId": "100667458171938955043"
     },
     "user_tz": -330
    },
    "id": "nCb9U-33htpg",
    "outputId": "0a6ee035-e0a4-4a13-d807-7173dfba8b4c"
   },
   "outputs": [],
   "source": [
    "#for/else\n",
    "for i in range(10):\n",
    "  if(i > 7):                      #change 7 to 12 to see change in answer\n",
    "    print 'Here is the break'\n",
    "    break\n",
    "else:\n",
    "  print 'Iterated fully on range'"
   ]
  },
  {
   "cell_type": "code",
   "execution_count": null,
   "metadata": {
    "colab": {
     "autoexec": {
      "startup": false,
      "wait_interval": 0
     }
    },
    "colab_type": "code",
    "collapsed": true,
    "id": "t9vvQXhviQc_"
   },
   "outputs": [],
   "source": []
  },
  {
   "cell_type": "code",
   "execution_count": null,
   "metadata": {
    "collapsed": true
   },
   "outputs": [],
   "source": []
  }
 ],
 "metadata": {
  "colab": {
   "collapsed_sections": [],
   "default_view": {},
   "name": "Python Tutorial",
   "provenance": [],
   "version": "0.3.2",
   "views": {}
  },
  "kernelspec": {
   "display_name": "Python 2",
   "language": "python",
   "name": "python2"
  },
  "language_info": {
   "codemirror_mode": {
    "name": "ipython",
    "version": 2
   },
   "file_extension": ".py",
   "mimetype": "text/x-python",
   "name": "python",
   "nbconvert_exporter": "python",
   "pygments_lexer": "ipython2",
   "version": "2.7.12"
  }
 },
 "nbformat": 4,
 "nbformat_minor": 1
}
